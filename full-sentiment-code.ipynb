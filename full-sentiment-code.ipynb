{
 "cells": [
  {
   "cell_type": "code",
   "execution_count": 1,
   "metadata": {},
   "outputs": [
    {
     "data": {
      "text/html": [
       "<div>\n",
       "<style scoped>\n",
       "    .dataframe tbody tr th:only-of-type {\n",
       "        vertical-align: middle;\n",
       "    }\n",
       "\n",
       "    .dataframe tbody tr th {\n",
       "        vertical-align: top;\n",
       "    }\n",
       "\n",
       "    .dataframe thead th {\n",
       "        text-align: right;\n",
       "    }\n",
       "</style>\n",
       "<table border=\"1\" class=\"dataframe\">\n",
       "  <thead>\n",
       "    <tr style=\"text-align: right;\">\n",
       "      <th></th>\n",
       "      <th>Unnamed: 0</th>\n",
       "      <th>link</th>\n",
       "      <th>date</th>\n",
       "      <th>text</th>\n",
       "    </tr>\n",
       "  </thead>\n",
       "  <tbody>\n",
       "    <tr>\n",
       "      <th>0</th>\n",
       "      <td>0</td>\n",
       "      <td>https://www.fmprc.gov.cn/mfa_eng/xwfw_665399/s...</td>\n",
       "      <td>2021-12-22</td>\n",
       "      <td>China Daily: As we are getting closer to the o...</td>\n",
       "    </tr>\n",
       "    <tr>\n",
       "      <th>1</th>\n",
       "      <td>1</td>\n",
       "      <td>https://www.fmprc.gov.cn/mfa_eng/xwfw_665399/s...</td>\n",
       "      <td>2021-12-22</td>\n",
       "      <td>Zhao Lijian: The idea of a green Beijing 2022 ...</td>\n",
       "    </tr>\n",
       "    <tr>\n",
       "      <th>2</th>\n",
       "      <td>2</td>\n",
       "      <td>https://www.fmprc.gov.cn/mfa_eng/xwfw_665399/s...</td>\n",
       "      <td>2021-12-22</td>\n",
       "      <td>In recent years, Beijing and Hebei province ha...</td>\n",
       "    </tr>\n",
       "    <tr>\n",
       "      <th>3</th>\n",
       "      <td>3</td>\n",
       "      <td>https://www.fmprc.gov.cn/mfa_eng/xwfw_665399/s...</td>\n",
       "      <td>2021-12-22</td>\n",
       "      <td>During the Games, all 12 Olympic venues will b...</td>\n",
       "    </tr>\n",
       "    <tr>\n",
       "      <th>4</th>\n",
       "      <td>4</td>\n",
       "      <td>https://www.fmprc.gov.cn/mfa_eng/xwfw_665399/s...</td>\n",
       "      <td>2021-12-22</td>\n",
       "      <td>Lately, many people in the international commu...</td>\n",
       "    </tr>\n",
       "  </tbody>\n",
       "</table>\n",
       "</div>"
      ],
      "text/plain": [
       "   Unnamed: 0                                               link        date  \\\n",
       "0           0  https://www.fmprc.gov.cn/mfa_eng/xwfw_665399/s...  2021-12-22   \n",
       "1           1  https://www.fmprc.gov.cn/mfa_eng/xwfw_665399/s...  2021-12-22   \n",
       "2           2  https://www.fmprc.gov.cn/mfa_eng/xwfw_665399/s...  2021-12-22   \n",
       "3           3  https://www.fmprc.gov.cn/mfa_eng/xwfw_665399/s...  2021-12-22   \n",
       "4           4  https://www.fmprc.gov.cn/mfa_eng/xwfw_665399/s...  2021-12-22   \n",
       "\n",
       "                                                text  \n",
       "0  China Daily: As we are getting closer to the o...  \n",
       "1  Zhao Lijian: The idea of a green Beijing 2022 ...  \n",
       "2  In recent years, Beijing and Hebei province ha...  \n",
       "3  During the Games, all 12 Olympic venues will b...  \n",
       "4  Lately, many people in the international commu...  "
      ]
     },
     "execution_count": 1,
     "metadata": {},
     "output_type": "execute_result"
    }
   ],
   "source": [
    "import pandas as pd\n",
    "\n",
    "df = pd.read_csv('spokesperson.csv')\n",
    "df.head()"
   ]
  },
  {
   "cell_type": "code",
   "execution_count": 2,
   "metadata": {},
   "outputs": [],
   "source": [
    "import spacy\n",
    "from spacy.matcher import Matcher\n",
    "\n",
    "nlp = spacy.load('en_core_web_sm')\n",
    "matcher = Matcher(nlp.vocab)"
   ]
  },
  {
   "cell_type": "code",
   "execution_count": 3,
   "metadata": {},
   "outputs": [],
   "source": [
    "pattern = [\n",
    "    [{\"TEXT\": \"economy\"}]]\n",
    "\n",
    "matcher.add(\"Economy\", pattern)"
   ]
  },
  {
   "cell_type": "code",
   "execution_count": 4,
   "metadata": {},
   "outputs": [
    {
     "data": {
      "text/plain": [
       "20197"
      ]
     },
     "execution_count": 4,
     "metadata": {},
     "output_type": "execute_result"
    }
   ],
   "source": [
    "stat_list=[]\n",
    "\n",
    "for i in range(len(df)):\n",
    "    text= df['text'][i]\n",
    "    stat_list.append(text)\n",
    "\n",
    "len(stat_list)"
   ]
  },
  {
   "cell_type": "code",
   "execution_count": 6,
   "metadata": {},
   "outputs": [
    {
     "name": "stderr",
     "output_type": "stream",
     "text": [
      "100%|██████████| 20197/20197 [03:39<00:00, 91.85it/s] \n"
     ]
    },
    {
     "data": {
      "text/plain": [
       "670"
      ]
     },
     "execution_count": 6,
     "metadata": {},
     "output_type": "execute_result"
    }
   ],
   "source": [
    "import re\n",
    "from tqdm import tqdm\n",
    "econ_stats=[]\n",
    "\n",
    "for i in tqdm(range(len(stat_list))):\n",
    "    text= nlp(stat_list[i])\n",
    "    matches= matcher(text)\n",
    "    for match_id, start, end in matches:\n",
    "        string_id= nlp.vocab.strings[match_id] \n",
    "        span = text[start:end]\n",
    "        span_sent= re.findall(r'[^.]*' + re.escape(str(span)) + r'[^.]*\\.', str(text))\n",
    "        econ_stats.append([(span_sent),(df['date'][i])])\n",
    "len(econ_stats)"
   ]
  },
  {
   "cell_type": "code",
   "execution_count": 7,
   "metadata": {},
   "outputs": [],
   "source": [
    "from transformers import BertTokenizer"
   ]
  },
  {
   "cell_type": "code",
   "execution_count": 8,
   "metadata": {},
   "outputs": [
    {
     "data": {
      "text/html": [
       "<div>\n",
       "<style scoped>\n",
       "    .dataframe tbody tr th:only-of-type {\n",
       "        vertical-align: middle;\n",
       "    }\n",
       "\n",
       "    .dataframe tbody tr th {\n",
       "        vertical-align: top;\n",
       "    }\n",
       "\n",
       "    .dataframe thead th {\n",
       "        text-align: right;\n",
       "    }\n",
       "</style>\n",
       "<table border=\"1\" class=\"dataframe\">\n",
       "  <thead>\n",
       "    <tr style=\"text-align: right;\">\n",
       "      <th></th>\n",
       "      <th>Unnamed: 0</th>\n",
       "      <th>statements</th>\n",
       "      <th>date</th>\n",
       "    </tr>\n",
       "  </thead>\n",
       "  <tbody>\n",
       "    <tr>\n",
       "      <th>0</th>\n",
       "      <td>0</td>\n",
       "      <td>[' Without UN Security Council’s authorization...</td>\n",
       "      <td>2021-12-21</td>\n",
       "    </tr>\n",
       "    <tr>\n",
       "      <th>1</th>\n",
       "      <td>1</td>\n",
       "      <td>[' In fact, the US’ oppression of Chinese ente...</td>\n",
       "      <td>2021-12-20</td>\n",
       "    </tr>\n",
       "    <tr>\n",
       "      <th>2</th>\n",
       "      <td>2</td>\n",
       "      <td>[' Apart from humanitarian assistance, China h...</td>\n",
       "      <td>2021-12-20</td>\n",
       "    </tr>\n",
       "    <tr>\n",
       "      <th>3</th>\n",
       "      <td>3</td>\n",
       "      <td>[' What the US did has seriously undermined th...</td>\n",
       "      <td>2021-12-17</td>\n",
       "    </tr>\n",
       "    <tr>\n",
       "      <th>4</th>\n",
       "      <td>4</td>\n",
       "      <td>[' They shared the hope to strengthen cooperat...</td>\n",
       "      <td>2021-12-16</td>\n",
       "    </tr>\n",
       "  </tbody>\n",
       "</table>\n",
       "</div>"
      ],
      "text/plain": [
       "   Unnamed: 0                                         statements        date\n",
       "0           0  [' Without UN Security Council’s authorization...  2021-12-21\n",
       "1           1  [' In fact, the US’ oppression of Chinese ente...  2021-12-20\n",
       "2           2  [' Apart from humanitarian assistance, China h...  2021-12-20\n",
       "3           3  [' What the US did has seriously undermined th...  2021-12-17\n",
       "4           4  [' They shared the hope to strengthen cooperat...  2021-12-16"
      ]
     },
     "execution_count": 8,
     "metadata": {},
     "output_type": "execute_result"
    }
   ],
   "source": [
    "sent_df = pd.DataFrame(econ_stats, columns=['statements', 'date'])\n",
    "#sent_df.to_csv('sent-df')\n",
    "sent_df= pd.read_csv('sent-df')\n",
    "sent_df.head()"
   ]
  },
  {
   "cell_type": "code",
   "execution_count": 9,
   "metadata": {},
   "outputs": [],
   "source": [
    "stat_ser = sent_df['statements']"
   ]
  },
  {
   "cell_type": "code",
   "execution_count": 10,
   "metadata": {},
   "outputs": [],
   "source": [
    "model_name = 'ProsusAI/finbert'\n",
    "from transformers import BertTokenizer, BertForSequenceClassification"
   ]
  },
  {
   "cell_type": "code",
   "execution_count": 11,
   "metadata": {},
   "outputs": [],
   "source": [
    "model = BertForSequenceClassification.from_pretrained(model_name)"
   ]
  },
  {
   "cell_type": "code",
   "execution_count": 12,
   "metadata": {},
   "outputs": [],
   "source": [
    "tokenizer = BertTokenizer.from_pretrained(model_name)"
   ]
  },
  {
   "cell_type": "code",
   "execution_count": 13,
   "metadata": {},
   "outputs": [
    {
     "name": "stderr",
     "output_type": "stream",
     "text": [
      "100%|██████████| 670/670 [17:31<00:00,  1.57s/it]\n"
     ]
    }
   ],
   "source": [
    "import torch.nn.functional as F\n",
    "import torch\n",
    "\n",
    "preds_list=[]\n",
    "\n",
    "for i in tqdm(range(len(stat_ser))):\n",
    "    tokens = tokenizer.encode_plus(str(stat_ser[i]), max_length=512,\n",
    "                                   truncation=True, padding='max_length',\n",
    "                                   return_tensors='pt')\n",
    "    output = model(**tokens)\n",
    "    probs= F.softmax(output[0], dim=-1)\n",
    "    pred= torch.argmax(probs)\n",
    "    preds_list.append(pred)"
   ]
  },
  {
   "cell_type": "code",
   "execution_count": 14,
   "metadata": {},
   "outputs": [],
   "source": [
    "sent_df['sentiment'] = preds_list"
   ]
  },
  {
   "cell_type": "code",
   "execution_count": 19,
   "metadata": {},
   "outputs": [
    {
     "data": {
      "text/html": [
       "<div>\n",
       "<style scoped>\n",
       "    .dataframe tbody tr th:only-of-type {\n",
       "        vertical-align: middle;\n",
       "    }\n",
       "\n",
       "    .dataframe tbody tr th {\n",
       "        vertical-align: top;\n",
       "    }\n",
       "\n",
       "    .dataframe thead th {\n",
       "        text-align: right;\n",
       "    }\n",
       "</style>\n",
       "<table border=\"1\" class=\"dataframe\">\n",
       "  <thead>\n",
       "    <tr style=\"text-align: right;\">\n",
       "      <th></th>\n",
       "      <th>Unnamed: 0</th>\n",
       "      <th>statements</th>\n",
       "      <th>date</th>\n",
       "      <th>sentiment</th>\n",
       "    </tr>\n",
       "  </thead>\n",
       "  <tbody>\n",
       "    <tr>\n",
       "      <th>0</th>\n",
       "      <td>0</td>\n",
       "      <td>[' Without UN Security Council’s authorization...</td>\n",
       "      <td>2021-12-21</td>\n",
       "      <td>tensor(1)</td>\n",
       "    </tr>\n",
       "    <tr>\n",
       "      <th>1</th>\n",
       "      <td>1</td>\n",
       "      <td>[' In fact, the US’ oppression of Chinese ente...</td>\n",
       "      <td>2021-12-20</td>\n",
       "      <td>tensor(1)</td>\n",
       "    </tr>\n",
       "    <tr>\n",
       "      <th>2</th>\n",
       "      <td>2</td>\n",
       "      <td>[' Apart from humanitarian assistance, China h...</td>\n",
       "      <td>2021-12-20</td>\n",
       "      <td>tensor(0)</td>\n",
       "    </tr>\n",
       "    <tr>\n",
       "      <th>3</th>\n",
       "      <td>3</td>\n",
       "      <td>[' What the US did has seriously undermined th...</td>\n",
       "      <td>2021-12-17</td>\n",
       "      <td>tensor(1)</td>\n",
       "    </tr>\n",
       "    <tr>\n",
       "      <th>4</th>\n",
       "      <td>4</td>\n",
       "      <td>[' They shared the hope to strengthen cooperat...</td>\n",
       "      <td>2021-12-16</td>\n",
       "      <td>tensor(0)</td>\n",
       "    </tr>\n",
       "  </tbody>\n",
       "</table>\n",
       "</div>"
      ],
      "text/plain": [
       "   Unnamed: 0                                         statements        date  \\\n",
       "0           0  [' Without UN Security Council’s authorization...  2021-12-21   \n",
       "1           1  [' In fact, the US’ oppression of Chinese ente...  2021-12-20   \n",
       "2           2  [' Apart from humanitarian assistance, China h...  2021-12-20   \n",
       "3           3  [' What the US did has seriously undermined th...  2021-12-17   \n",
       "4           4  [' They shared the hope to strengthen cooperat...  2021-12-16   \n",
       "\n",
       "   sentiment  \n",
       "0  tensor(1)  \n",
       "1  tensor(1)  \n",
       "2  tensor(0)  \n",
       "3  tensor(1)  \n",
       "4  tensor(0)  "
      ]
     },
     "execution_count": 19,
     "metadata": {},
     "output_type": "execute_result"
    }
   ],
   "source": [
    "sent_df.head()"
   ]
  },
  {
   "cell_type": "code",
   "execution_count": 54,
   "metadata": {},
   "outputs": [
    {
     "data": {
      "text/plain": [
       "'[]'"
      ]
     },
     "execution_count": 54,
     "metadata": {},
     "output_type": "execute_result"
    }
   ],
   "source": [
    "sent_df.statements.iloc[621]"
   ]
  },
  {
   "cell_type": "code",
   "execution_count": 20,
   "metadata": {},
   "outputs": [],
   "source": [
    "sent_df=sent_df.reset_index(drop=True)"
   ]
  },
  {
   "cell_type": "code",
   "execution_count": 22,
   "metadata": {},
   "outputs": [
    {
     "name": "stdout",
     "output_type": "stream",
     "text": [
      "Number of positive sentences is 402\n",
      "\n",
      "\n",
      "Number of neutral sentences is 101\n",
      "\n",
      "\n",
      "Number of negative sentences is 167\n"
     ]
    }
   ],
   "source": [
    "print('Number of positive sentences is' + ' ' + str(len(sent_df[sent_df.sentiment==0])))\n",
    "print('\\n')\n",
    "print('Number of neutral sentences is' + ' ' + str(len(sent_df[sent_df.sentiment==1])))\n",
    "print('\\n')\n",
    "print('Number of negative sentences is' + ' ' + str(len(sent_df[sent_df.sentiment==2])))\n",
    "\n"
   ]
  },
  {
   "cell_type": "code",
   "execution_count": 55,
   "metadata": {},
   "outputs": [
    {
     "name": "stdout",
     "output_type": "stream",
     "text": [
      "[' It will not only bring about more fruitful data cooperation between the two sides, but will also promote the sound development of digital economy and the building of a community with a shared future in cyberspace by injecting the wisdom and strength of developing countries into global digital governance.'] \n",
      "\n",
      "the sentiment for statement 230 is Positive\n",
      "------------------\n",
      "\n",
      "[' If our economy is impacted, there will inevitably be spillover effects on other countries and even the world economy.'] \n",
      "\n",
      "the sentiment for statement 633 is Neutral\n",
      "------------------\n",
      "\n",
      "[' Is this also part of the framework you mentioned? In a world where the global economy is deeply integrated, the US moves to undermine the stability of global industrial and supply chains are against the trend.'] \n",
      "\n",
      "the sentiment for statement 17 is Neutral\n",
      "------------------\n",
      "\n",
      "[' He pointed out that China will deeply engage in international cooperation on green and low-carbon development and the digital economy, and work actively for joining the Comprehensive and Progressive Agreement for Trans-Pacific Partnership (CPTPP) and the Digital Economy Partnership Agreement (DEPA).', ' All this shows that China’s position is firm\\u2002and\\u2002consistent on opening wider, upholding multilateral trading system, promoting regional economic integration and building an open world economy.'] \n",
      "\n",
      "the sentiment for statement 56 is Positive\n",
      "------------------\n",
      "\n",
      "[' This serves the common interests of the two sides and helps to keep international industrial and supply chains stable and to pull the world economy out of recession at an early date.'] \n",
      "\n",
      "the sentiment for statement 557 is Positive\n",
      "------------------\n",
      "\n",
      "['Despite the severe challenges brought by COVID-19, China is resuming work, production, business and markets in an orderly manner, helping our economy and society gradually come back to normal.', ' In the second quarter, the Chinese economy achieved a growth rate of 3.', ' We are the first major economy to\\xa0achieve positive growth after having a negative growth rate earlier this year.', \" Those working in the international economic and financial sectors are optimistic about\\xa0the prospects\\xa0of China's economy and its long-term growth.\", \" The US\\xa0business community also see promising prospects for China's economy.\"] \n",
      "\n",
      "the sentiment for statement 514 is Positive\n",
      "------------------\n",
      "\n",
      "[\"Major economies should assume their responsibilities and earnestly implement the outcomes reached at the Extraordinary G20 Leaders' Summit on COVID-19 to stabilize the world economy.\", ' Efforts should be made to uphold an open world economy and remove restrictive trade measures such as tariffs to facilitate economic activities\\xa0and trade, foster a free, fair, non-discriminatory, transparent and predictable environment for trade and investment, and ensure the steady and smooth operation of global industrial chains and supply chains.'] \n",
      "\n",
      "the sentiment for statement 586 is Positive\n",
      "------------------\n",
      "\n",
      "['Fourth, improve digital governance to advance the sound development of the global digital economy.', ' The G20 should shoulder global responsibilities in the digital era, quicken the development of new types of digital infrastructure, promote deeper integration of digital technologies with the real economy, and help developing countries eliminate the digital divide.', ' This reflects China’s constructive attitude of participating actively in international cooperation on digital economy and relevant rules-making, and its firm resolve to commit itself to wider opening-up and alignment with high-standard international rules and criteria.'] \n",
      "\n",
      "the sentiment for statement 69 is Positive\n",
      "------------------\n",
      "\n",
      "[' The preventive counter-terrorism and de-radicalization measures taken in Xinjiang have effectively curbed the frequent occurrence of terrorist activities, so that the life safety of people of all ethnic groups is guaranteed, and greater progress has been made in local economy and living standards.'] \n",
      "\n",
      "the sentiment for statement 415 is Negative\n",
      "------------------\n",
      "\n",
      "[\"Zhao Lijian: In 2020, as the world economy and global trade reel under the impact of COVID-19, China's foreign trade rapidly bounced back and sustained positive momentum, showing strong resilience and comprehensive competitiveness.\", ' Since June 2020, import and export has been growing for seven months in a row, making China the only major economy in the world to register positive growth in trade in goods.'] \n",
      "\n",
      "the sentiment for statement 287 is Positive\n",
      "------------------\n",
      "\n"
     ]
    }
   ],
   "source": [
    "import numpy as np\n",
    "from numpy import random\n",
    "my_rand= random.randint(len(sent_df), size=(10))\n",
    "\n",
    "\n",
    "for i in my_rand:\n",
    "    x = sent_df.sentiment[i]\n",
    "    if x == 0:\n",
    "        print(sent_df['statements'][i], \"\\n\" + \"\\n\" + 'the sentiment for statement'+ ' '+ str(i) + ' '+ 'is' + ' '+ 'Positive' + \"\\n\" + \"------------------\" + \"\\n\" )\n",
    "    elif x ==1:\n",
    "        print(sent_df['statements'][i], \"\\n\" + \"\\n\" + 'the sentiment for statement'+ ' '+ str(i) + ' '+ 'is' + ' '+ 'Neutral' + \"\\n\" + \"------------------\" + \"\\n\" )\n",
    "    elif x==2:\n",
    "        print(sent_df['statements'][i], \"\\n\" + \"\\n\" + 'the sentiment for statement'+ ' '+ str(i) + ' '+ 'is' + ' '+ 'Negative' + \"\\n\" + \"------------------\" + \"\\n\" )\n",
    "    else:\n",
    "        print('there is no sentiment')"
   ]
  },
  {
   "cell_type": "code",
   "execution_count": null,
   "metadata": {},
   "outputs": [],
   "source": []
  }
 ],
 "metadata": {
  "interpreter": {
   "hash": "c026e9a3f0ac8bebe71c0f85bc0f49ea2b89705ca9128adc1c4339a74b1af46b"
  },
  "kernelspec": {
   "display_name": "Python 3.9.10 64-bit (windows store)",
   "language": "python",
   "name": "python3"
  },
  "language_info": {
   "codemirror_mode": {
    "name": "ipython",
    "version": 3
   },
   "file_extension": ".py",
   "mimetype": "text/x-python",
   "name": "python",
   "nbconvert_exporter": "python",
   "pygments_lexer": "ipython3",
   "version": "3.9.10"
  },
  "orig_nbformat": 4
 },
 "nbformat": 4,
 "nbformat_minor": 2
}
