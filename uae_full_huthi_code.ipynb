{
 "cells": [
  {
   "cell_type": "markdown",
   "metadata": {},
   "source": [
    "# Scraping"
   ]
  },
  {
   "cell_type": "code",
   "execution_count": 1,
   "metadata": {},
   "outputs": [
    {
     "data": {
      "text/plain": [
       "<Response [200]>"
      ]
     },
     "execution_count": 1,
     "metadata": {},
     "output_type": "execute_result"
    }
   ],
   "source": [
    "import pandas as pd\n",
    "import requests\n",
    "page = requests.get(\"https://www.almasirah.news/category/8/100/\")\n",
    "page"
   ]
  },
  {
   "cell_type": "code",
   "execution_count": 2,
   "metadata": {},
   "outputs": [
    {
     "data": {
      "text/plain": [
       "200"
      ]
     },
     "execution_count": 2,
     "metadata": {},
     "output_type": "execute_result"
    }
   ],
   "source": [
    "page.status_code\n"
   ]
  },
  {
   "cell_type": "code",
   "execution_count": 3,
   "metadata": {},
   "outputs": [],
   "source": [
    "def scroll_page(driver, scroll_pause_time, screen_height): #will be used in the near future\n",
    "    i = 1\n",
    "    while i <= 250:\n",
    "        driver.execute_script(\"window.scrollTo(0, {screen_height}*{i});\".format(screen_height=screen_height, i=i))\n",
    "        i+=1\n",
    "        time.sleep(scroll_pause_time)\n",
    "        scroll_height= driver.execute_script(\"return document.body.scrollHeight;\")\n",
    "        if (screen_height) * i > scroll_height:\n",
    "            break\n"
   ]
  },
  {
   "cell_type": "code",
   "execution_count": 4,
   "metadata": {},
   "outputs": [
    {
     "name": "stderr",
     "output_type": "stream",
     "text": [
      "C:\\Users\\uriel\\AppData\\Local\\Temp/ipykernel_6836/1105863485.py:4: DeprecationWarning: executable_path has been deprecated, please pass in a Service object\n",
      "  driver = webdriver.Chrome(r\"C:\\Users\\uriel\\Downloads\\chromedriver_win32\\chromedriver.exe\")\n"
     ]
    }
   ],
   "source": [
    "from selenium import webdriver\n",
    "import time\n",
    "from bs4 import BeautifulSoup as bs\n",
    "driver = webdriver.Chrome(r\"C:\\Users\\uriel\\Downloads\\chromedriver_win32\\chromedriver.exe\")\n",
    "driver.get(fr\"https://www.almasirah.news/category/8/100/\")"
   ]
  },
  {
   "cell_type": "code",
   "execution_count": 5,
   "metadata": {},
   "outputs": [],
   "source": [
    "#Get links from website\n",
    "from datetime import datetime\n",
    "soup = bs(driver.page_source, 'html.parser')\n",
    "all = soup.find_all(class_=\"card-header\")\n",
    "link_list=[]\n",
    "date_list=[]\n",
    "for i in all:\n",
    "    for a in i.find_all('a', href=True):\n",
    "        if(a.get('href').startswith('https://www.almasirah.news/post')):\n",
    "            link_list.append(a.get('href'))"
   ]
  },
  {
   "cell_type": "code",
   "execution_count": 6,
   "metadata": {},
   "outputs": [
    {
     "name": "stderr",
     "output_type": "stream",
     "text": [
      "100%|██████████| 233/233 [18:57<00:00,  4.88s/it]\n"
     ]
    }
   ],
   "source": [
    "#Get text from each link\n",
    "from tqdm import tqdm\n",
    "text = []\n",
    "for link in tqdm(link_list):\n",
    "    text_list =[]\n",
    "    driver.get(link)\n",
    "    soup = bs(driver.page_source, 'html.parser')\n",
    "    all_text = soup.find_all(\"p\")\n",
    "    for item in all_text:\n",
    "        text_list.append(item.text)\n",
    "    text.append(''.join(text_list))   "
   ]
  },
  {
   "cell_type": "code",
   "execution_count": 7,
   "metadata": {},
   "outputs": [
    {
     "name": "stderr",
     "output_type": "stream",
     "text": [
      "100%|██████████| 233/233 [19:51<00:00,  5.11s/it]\n"
     ]
    }
   ],
   "source": [
    "# Dates extraction \n",
    "import re \n",
    "dates=[]\n",
    "for link in tqdm(link_list):\n",
    "    driver.get(link)\n",
    "    soup = bs(driver.page_source, 'html.parser')\n",
    "    all_dates = soup.find_all(class_=\"btn btn-tag pull-left\")\n",
    "    try:\n",
    "        match = re.search('\\d{4}-\\d{2}-\\d{2}', str(all_dates))\n",
    "        dates.append(match.group())\n",
    "    except AttributeError:\n",
    "        dates.append('No date')"
   ]
  },
  {
   "cell_type": "code",
   "execution_count": 8,
   "metadata": {},
   "outputs": [
    {
     "data": {
      "text/plain": [
       "['No date',\n",
       " 'No date',\n",
       " 'No date',\n",
       " '2022-02-03',\n",
       " '2021-12-18',\n",
       " '2021-12-02',\n",
       " '2021-10-18',\n",
       " '2021-10-07',\n",
       " '2021-09-20',\n",
       " '2021-09-02',\n",
       " '2021-08-19',\n",
       " '2021-08-09',\n",
       " 'No date',\n",
       " '2021-06-03',\n",
       " 'No date',\n",
       " '2021-05-12',\n",
       " '2021-05-11',\n",
       " '2021-05-10',\n",
       " '2021-05-09',\n",
       " '2021-05-08',\n",
       " '2021-05-07',\n",
       " '2021-05-07',\n",
       " '2021-05-05',\n",
       " '2021-05-05',\n",
       " '2021-05-04',\n",
       " '2021-05-03',\n",
       " '2021-05-02',\n",
       " '2021-05-01',\n",
       " '2021-04-30',\n",
       " '2021-04-29',\n",
       " 'No date',\n",
       " 'No date',\n",
       " 'No date',\n",
       " 'No date',\n",
       " 'No date',\n",
       " 'No date',\n",
       " 'No date',\n",
       " 'No date',\n",
       " '2021-04-20',\n",
       " '2021-04-20',\n",
       " '2021-04-18',\n",
       " '2021-04-17',\n",
       " '2021-04-16',\n",
       " '2021-04-15',\n",
       " '2021-04-14',\n",
       " '2021-04-14',\n",
       " '2021-04-09',\n",
       " 'No date',\n",
       " '2021-03-10',\n",
       " '2021-02-19',\n",
       " '2021-01-03',\n",
       " '2020-12-09',\n",
       " '2020-10-29',\n",
       " '2020-10-19',\n",
       " 'No date',\n",
       " '2020-09-14',\n",
       " '2020-08-30',\n",
       " '2020-08-20',\n",
       " '2020-08-08',\n",
       " '2020-06-18',\n",
       " 'No date',\n",
       " 'No date',\n",
       " 'No date',\n",
       " '2020-05-20',\n",
       " '2020-05-20',\n",
       " '2020-05-19',\n",
       " '2020-05-18',\n",
       " '2020-05-17',\n",
       " '2020-05-16',\n",
       " '2020-05-15',\n",
       " '2020-05-14',\n",
       " '2020-05-13',\n",
       " '2020-05-12',\n",
       " '2020-05-11',\n",
       " '2020-05-10',\n",
       " '2020-05-10',\n",
       " '2020-05-08',\n",
       " '2020-05-07',\n",
       " '2020-05-06',\n",
       " '2020-05-05',\n",
       " '2020-05-04',\n",
       " '2020-05-03',\n",
       " '2020-05-02',\n",
       " '2020-05-01',\n",
       " '2020-04-30',\n",
       " '2020-04-29',\n",
       " 'No date',\n",
       " 'No date',\n",
       " 'No date',\n",
       " 'No date',\n",
       " 'No date',\n",
       " 'No date',\n",
       " 'No date',\n",
       " 'No date',\n",
       " 'No date',\n",
       " '2020-01-08',\n",
       " '2019-12-18',\n",
       " '2019-11-09',\n",
       " '2019-11-03',\n",
       " '2019-09-10',\n",
       " '2019-09-09',\n",
       " '2019-09-08',\n",
       " '2019-09-03',\n",
       " '2019-09-02',\n",
       " '2019-09-01',\n",
       " '2019-08-19',\n",
       " '2019-08-17',\n",
       " '2019-08-04',\n",
       " '2019-07-03',\n",
       " 'No date',\n",
       " '2019-06-04',\n",
       " '2019-06-03',\n",
       " '2019-06-02',\n",
       " '2019-06-01',\n",
       " '2019-05-30',\n",
       " '2019-05-29',\n",
       " 'No date',\n",
       " 'No date',\n",
       " 'No date',\n",
       " 'No date',\n",
       " 'No date',\n",
       " 'No date',\n",
       " 'No date',\n",
       " 'No date',\n",
       " '2019-05-20',\n",
       " '2019-05-19',\n",
       " '2019-05-18',\n",
       " '2019-05-18',\n",
       " '2019-05-17',\n",
       " '2019-05-14',\n",
       " '2019-05-13',\n",
       " '2019-05-12',\n",
       " '2019-05-11',\n",
       " '2019-05-10',\n",
       " '2019-05-09',\n",
       " '2019-05-08',\n",
       " '2019-05-07',\n",
       " '2019-05-06',\n",
       " 'No date',\n",
       " '2019-04-02',\n",
       " 'No date',\n",
       " '2019-03-08',\n",
       " '2019-03-03',\n",
       " 'No date',\n",
       " 'No date',\n",
       " '2018-11-20',\n",
       " '2018-11-19',\n",
       " '2018-11-18',\n",
       " '2018-11-17',\n",
       " '2018-11-07',\n",
       " '2018-10-04',\n",
       " '2018-09-20',\n",
       " '2018-09-19',\n",
       " '2018-09-18',\n",
       " '2018-09-17',\n",
       " '2018-09-16',\n",
       " '2018-09-15',\n",
       " '2018-09-14',\n",
       " '2018-09-13',\n",
       " '2018-09-12',\n",
       " '2018-09-11',\n",
       " '2018-09-08',\n",
       " '2018-08-29',\n",
       " '2018-07-13',\n",
       " '2018-06-15',\n",
       " '2018-06-14',\n",
       " '2018-06-13',\n",
       " '2018-06-12',\n",
       " '2018-06-11',\n",
       " '2018-06-10',\n",
       " '2018-06-09',\n",
       " '2018-06-08',\n",
       " '2018-06-07',\n",
       " '2018-06-06',\n",
       " '2018-06-05',\n",
       " '2018-06-04',\n",
       " '2018-06-03',\n",
       " '2018-06-02',\n",
       " '2018-05-31',\n",
       " '2018-05-30',\n",
       " 'No date',\n",
       " 'No date',\n",
       " 'No date',\n",
       " 'No date',\n",
       " 'No date',\n",
       " 'No date',\n",
       " 'No date',\n",
       " 'No date',\n",
       " '2018-05-21',\n",
       " '2018-05-19',\n",
       " '2018-05-17',\n",
       " '2018-05-16',\n",
       " 'No date',\n",
       " 'No date',\n",
       " '2018-04-13',\n",
       " 'No date',\n",
       " 'No date',\n",
       " '2018-02-03',\n",
       " '2017-12-19',\n",
       " '2017-12-04',\n",
       " '2017-12-02',\n",
       " '2017-12-02',\n",
       " '2017-11-30',\n",
       " '2017-11-29',\n",
       " 'No date',\n",
       " 'No date',\n",
       " 'No date',\n",
       " 'No date',\n",
       " '2017-10-15',\n",
       " '2017-09-30',\n",
       " '2017-08-19',\n",
       " '2017-07-20',\n",
       " 'No date',\n",
       " 'No date',\n",
       " '2017-06-21',\n",
       " '2017-06-16',\n",
       " '2017-06-14',\n",
       " '2017-06-14',\n",
       " '2017-06-12',\n",
       " '2017-06-10',\n",
       " '2017-06-08',\n",
       " '2017-06-07',\n",
       " '2017-06-04',\n",
       " '2017-06-03',\n",
       " '2017-06-02',\n",
       " '2017-06-01',\n",
       " '2017-05-31',\n",
       " '2017-05-29',\n",
       " 'No date',\n",
       " 'No date',\n",
       " '2017-02-10',\n",
       " 'No date',\n",
       " '2016-12-11']"
      ]
     },
     "execution_count": 8,
     "metadata": {},
     "output_type": "execute_result"
    }
   ],
   "source": [
    "dates "
   ]
  },
  {
   "cell_type": "code",
   "execution_count": 9,
   "metadata": {},
   "outputs": [
    {
     "data": {
      "text/html": [
       "<div>\n",
       "<style scoped>\n",
       "    .dataframe tbody tr th:only-of-type {\n",
       "        vertical-align: middle;\n",
       "    }\n",
       "\n",
       "    .dataframe tbody tr th {\n",
       "        vertical-align: top;\n",
       "    }\n",
       "\n",
       "    .dataframe thead th {\n",
       "        text-align: right;\n",
       "    }\n",
       "</style>\n",
       "<table border=\"1\" class=\"dataframe\">\n",
       "  <thead>\n",
       "    <tr style=\"text-align: right;\">\n",
       "      <th></th>\n",
       "      <th>Text</th>\n",
       "      <th>Date</th>\n",
       "      <th>Link</th>\n",
       "    </tr>\n",
       "  </thead>\n",
       "  <tbody>\n",
       "    <tr>\n",
       "      <th>0</th>\n",
       "      <td>شبكة المسيرة الإعلامية، شبكة يمنية متنوعة تسعى...</td>\n",
       "      <td>No date</td>\n",
       "      <td>https://www.almasirah.news/post/209679/%D9%83%...</td>\n",
       "    </tr>\n",
       "    <tr>\n",
       "      <th>1</th>\n",
       "      <td>شبكة المسيرة الإعلامية، شبكة يمنية متنوعة تسعى...</td>\n",
       "      <td>No date</td>\n",
       "      <td>https://www.almasirah.news/post/209384/%28%D9%...</td>\n",
       "    </tr>\n",
       "    <tr>\n",
       "      <th>2</th>\n",
       "      <td>شبكة المسيرة الإعلامية، شبكة يمنية متنوعة تسعى...</td>\n",
       "      <td>No date</td>\n",
       "      <td>https://www.almasirah.news/post/207375/%28%D9%...</td>\n",
       "    </tr>\n",
       "    <tr>\n",
       "      <th>3</th>\n",
       "      <td>شبكة المسيرة الإعلامية، شبكة يمنية متنوعة تسعى...</td>\n",
       "      <td>2022-02-03</td>\n",
       "      <td>https://www.almasirah.news/post/205515/%28%D9%...</td>\n",
       "    </tr>\n",
       "    <tr>\n",
       "      <th>4</th>\n",
       "      <td>شبكة المسيرة الإعلامية، شبكة يمنية متنوعة تسعى...</td>\n",
       "      <td>2021-12-18</td>\n",
       "      <td>https://www.almasirah.news/post/202121/%28%D9%...</td>\n",
       "    </tr>\n",
       "  </tbody>\n",
       "</table>\n",
       "</div>"
      ],
      "text/plain": [
       "                                                Text        Date  \\\n",
       "0  شبكة المسيرة الإعلامية، شبكة يمنية متنوعة تسعى...     No date   \n",
       "1  شبكة المسيرة الإعلامية، شبكة يمنية متنوعة تسعى...     No date   \n",
       "2  شبكة المسيرة الإعلامية، شبكة يمنية متنوعة تسعى...     No date   \n",
       "3  شبكة المسيرة الإعلامية، شبكة يمنية متنوعة تسعى...  2022-02-03   \n",
       "4  شبكة المسيرة الإعلامية، شبكة يمنية متنوعة تسعى...  2021-12-18   \n",
       "\n",
       "                                                Link  \n",
       "0  https://www.almasirah.news/post/209679/%D9%83%...  \n",
       "1  https://www.almasirah.news/post/209384/%28%D9%...  \n",
       "2  https://www.almasirah.news/post/207375/%28%D9%...  \n",
       "3  https://www.almasirah.news/post/205515/%28%D9%...  \n",
       "4  https://www.almasirah.news/post/202121/%28%D9%...  "
      ]
     },
     "execution_count": 9,
     "metadata": {},
     "output_type": "execute_result"
    }
   ],
   "source": [
    "main_dict = {'Text':text, 'Date': dates,'Link':link_list}\n",
    "main_df = pd.DataFrame(main_dict)\n",
    "main_df.head()"
   ]
  },
  {
   "cell_type": "markdown",
   "metadata": {},
   "source": [
    "# Find UAE in text #"
   ]
  },
  {
   "cell_type": "code",
   "execution_count": 10,
   "metadata": {},
   "outputs": [
    {
     "name": "stderr",
     "output_type": "stream",
     "text": [
      "100%|██████████| 233/233 [00:16<00:00, 14.43it/s]\n"
     ]
    }
   ],
   "source": [
    "import re\n",
    "from tqdm import tqdm\n",
    "uae_temp_list=[]\n",
    "uae_list=[]\n",
    "for i in tqdm(range(len(main_df))):\n",
    "    text = main_df['Text'][i]\n",
    "    date = main_df['Date'][i]\n",
    "    matches=[\"الأنظمة العميلة\", \"النظام السعودي\", \"النظام الإماراتي\", \"العدوان السعودي الأمريكي\", \"المنافقون\", \"المرتزقة والدواعش الإماراتية\", \"ادوات\"]\n",
    "    for word in matches:\n",
    "        if len(re.findall(word,text)) != 0:\n",
    "            findall_uae_list =re.findall(r'[^.]*' + word + r'[^.]*\\.', text)\n",
    "            for find in findall_uae_list:\n",
    "                uae_temp_list.append([find,date])\n",
    "uae_df = pd.DataFrame(uae_temp_list, columns=['UAE_Text', 'Date'])\n",
    "\n",
    "        "
   ]
  },
  {
   "cell_type": "code",
   "execution_count": 11,
   "metadata": {},
   "outputs": [],
   "source": [
    "# Change to datetime\n",
    "for i in range(len(uae_df)):\n",
    "    if uae_df['Date'][i] != 'No date':\n",
    "        uae_df['Date'][i] = re.sub(\"[^0-9]\",\"\",uae_df['Date'][i])\n",
    "        uae_df['Date'][i] = pd.to_datetime(uae_df['Date'][i])\n",
    "        uae_df['Date'][i] = uae_df['Date'][i].date()"
   ]
  },
  {
   "cell_type": "code",
   "execution_count": 12,
   "metadata": {},
   "outputs": [
    {
     "data": {
      "text/html": [
       "<div>\n",
       "<style scoped>\n",
       "    .dataframe tbody tr th:only-of-type {\n",
       "        vertical-align: middle;\n",
       "    }\n",
       "\n",
       "    .dataframe tbody tr th {\n",
       "        vertical-align: top;\n",
       "    }\n",
       "\n",
       "    .dataframe thead th {\n",
       "        text-align: right;\n",
       "    }\n",
       "</style>\n",
       "<table border=\"1\" class=\"dataframe\">\n",
       "  <thead>\n",
       "    <tr style=\"text-align: right;\">\n",
       "      <th></th>\n",
       "      <th>UAE_Text</th>\n",
       "      <th>Date</th>\n",
       "    </tr>\n",
       "  </thead>\n",
       "  <tbody>\n",
       "    <tr>\n",
       "      <th>415</th>\n",
       "      <td>هذه الاستراتيجية فعلاً يبنون عليها سياساتهم وت...</td>\n",
       "      <td>No date</td>\n",
       "    </tr>\n",
       "    <tr>\n",
       "      <th>416</th>\n",
       "      <td>قال عنهم: {وَإِذَا خَلَوْا عَضُّوا عَلَيْكُمُ ...</td>\n",
       "      <td>No date</td>\n",
       "    </tr>\n",
       "    <tr>\n",
       "      <th>417</th>\n",
       "      <td>فطغيان العناوين والسياسات التي تريدها أمريكا م...</td>\n",
       "      <td>No date</td>\n",
       "    </tr>\n",
       "    <tr>\n",
       "      <th>418</th>\n",
       "      <td>ثم على المستوى العملي، احتلال بلدان، قتل لمئات...</td>\n",
       "      <td>No date</td>\n",
       "    </tr>\n",
       "    <tr>\n",
       "      <th>419</th>\n",
       "      <td>وفي نفس الوقت كلما حصلت تطورات، أو أحداث، يصطف...</td>\n",
       "      <td>No date</td>\n",
       "    </tr>\n",
       "  </tbody>\n",
       "</table>\n",
       "</div>"
      ],
      "text/plain": [
       "                                              UAE_Text     Date\n",
       "415  هذه الاستراتيجية فعلاً يبنون عليها سياساتهم وت...  No date\n",
       "416  قال عنهم: {وَإِذَا خَلَوْا عَضُّوا عَلَيْكُمُ ...  No date\n",
       "417  فطغيان العناوين والسياسات التي تريدها أمريكا م...  No date\n",
       "418  ثم على المستوى العملي، احتلال بلدان، قتل لمئات...  No date\n",
       "419  وفي نفس الوقت كلما حصلت تطورات، أو أحداث، يصطف...  No date"
      ]
     },
     "execution_count": 12,
     "metadata": {},
     "output_type": "execute_result"
    }
   ],
   "source": [
    "#simple search for text specific dates\n",
    "from_21_and_over_df= uae_df#[0:230]\n",
    "from_21_and_over_df = from_21_and_over_df.reindex(index=from_21_and_over_df.index[::-1]).reset_index(drop=\"True\")\n",
    "from_21_and_over_df.tail()"
   ]
  },
  {
   "cell_type": "markdown",
   "metadata": {},
   "source": [
    "# Sentiment Analysis"
   ]
  },
  {
   "cell_type": "code",
   "execution_count": 13,
   "metadata": {},
   "outputs": [],
   "source": [
    "import torch\n",
    "\n",
    "device = torch.device(\"cpu\")"
   ]
  },
  {
   "cell_type": "code",
   "execution_count": 14,
   "metadata": {},
   "outputs": [
    {
     "name": "stderr",
     "output_type": "stream",
     "text": [
      "100%|██████████| 420/420 [1:57:54<00:00, 16.84s/it]\n"
     ]
    }
   ],
   "source": [
    "from transformers import pipeline\n",
    "sentiment_list=[]\n",
    "sentiment_text=[]\n",
    "sentiment_date=[]\n",
    "for i in tqdm(range(len(from_21_and_over_df))):\n",
    "    sa_text = from_21_and_over_df['UAE_Text'][i]\n",
    "    if len(sa_text) > 512:\n",
    "            #sa_text = sa_text.split()\n",
    "            sa_text = sa_text[0:512]\n",
    "            #sa_text = ''.join(sa_text)\n",
    "    sa = pipeline('text-classification', model='CAMeL-Lab/bert-base-arabic-camelbert-da-sentiment')\n",
    "    sentiment_list.append(sa(sa_text))\n",
    "    sentiment_text.append(sa_text)\n",
    "    sentiment_date.append(from_21_and_over_df['Date'][i])"
   ]
  },
  {
   "cell_type": "code",
   "execution_count": 15,
   "metadata": {},
   "outputs": [
    {
     "data": {
      "text/html": [
       "<div>\n",
       "<style scoped>\n",
       "    .dataframe tbody tr th:only-of-type {\n",
       "        vertical-align: middle;\n",
       "    }\n",
       "\n",
       "    .dataframe tbody tr th {\n",
       "        vertical-align: top;\n",
       "    }\n",
       "\n",
       "    .dataframe thead th {\n",
       "        text-align: right;\n",
       "    }\n",
       "</style>\n",
       "<table border=\"1\" class=\"dataframe\">\n",
       "  <thead>\n",
       "    <tr style=\"text-align: right;\">\n",
       "      <th></th>\n",
       "      <th>UAE_Text</th>\n",
       "      <th>Date</th>\n",
       "      <th>Sentiment</th>\n",
       "    </tr>\n",
       "  </thead>\n",
       "  <tbody>\n",
       "    <tr>\n",
       "      <th>0</th>\n",
       "      <td>ثبت أن قوة الاستكبار اليوم وعلى رأسها أمريكا ...</td>\n",
       "      <td>2016-12-11</td>\n",
       "      <td>[{'label': 'negative', 'score': 0.996241331100...</td>\n",
       "    </tr>\n",
       "    <tr>\n",
       "      <th>1</th>\n",
       "      <td>\\nلاحظوا مَا مِن دولة ولا من أمة إلا ولها جيش ...</td>\n",
       "      <td>No date</td>\n",
       "      <td>[{'label': 'neutral', 'score': 0.6565144658088...</td>\n",
       "    </tr>\n",
       "    <tr>\n",
       "      <th>2</th>\n",
       "      <td>\\nالآن هناك مرحلة طرأت في الواقع الدولي، مجيء ...</td>\n",
       "      <td>No date</td>\n",
       "      <td>[{'label': 'negative', 'score': 0.994984984397...</td>\n",
       "    </tr>\n",
       "    <tr>\n",
       "      <th>3</th>\n",
       "      <td>\\nتقييمنا لمجريات الأحداث خلال الفترة الماضية ...</td>\n",
       "      <td>No date</td>\n",
       "      <td>[{'label': 'positive', 'score': 0.977029383182...</td>\n",
       "    </tr>\n",
       "    <tr>\n",
       "      <th>4</th>\n",
       "      <td>رابعا: العناية بوحدة الصف الداخلي، هناك شغل كب...</td>\n",
       "      <td>2017-02-10</td>\n",
       "      <td>[{'label': 'positive', 'score': 0.771841645240...</td>\n",
       "    </tr>\n",
       "  </tbody>\n",
       "</table>\n",
       "</div>"
      ],
      "text/plain": [
       "                                            UAE_Text        Date  \\\n",
       "0   ثبت أن قوة الاستكبار اليوم وعلى رأسها أمريكا ...  2016-12-11   \n",
       "1  \\nلاحظوا مَا مِن دولة ولا من أمة إلا ولها جيش ...     No date   \n",
       "2  \\nالآن هناك مرحلة طرأت في الواقع الدولي، مجيء ...     No date   \n",
       "3  \\nتقييمنا لمجريات الأحداث خلال الفترة الماضية ...     No date   \n",
       "4  رابعا: العناية بوحدة الصف الداخلي، هناك شغل كب...  2017-02-10   \n",
       "\n",
       "                                           Sentiment  \n",
       "0  [{'label': 'negative', 'score': 0.996241331100...  \n",
       "1  [{'label': 'neutral', 'score': 0.6565144658088...  \n",
       "2  [{'label': 'negative', 'score': 0.994984984397...  \n",
       "3  [{'label': 'positive', 'score': 0.977029383182...  \n",
       "4  [{'label': 'positive', 'score': 0.771841645240...  "
      ]
     },
     "execution_count": 15,
     "metadata": {},
     "output_type": "execute_result"
    }
   ],
   "source": [
    "final_dict={\"UAE_Text\": sentiment_text, \"Date\": sentiment_date, \"Sentiment\":sentiment_list}\n",
    "final_df_with_sentiment = pd.DataFrame(final_dict) \n",
    "final_df_with_sentiment.head()"
   ]
  },
  {
   "cell_type": "code",
   "execution_count": 16,
   "metadata": {},
   "outputs": [],
   "source": [
    "final_df_with_sentiment.to_excel('uae sentiment_29032022.xlsx')"
   ]
  },
  {
   "cell_type": "code",
   "execution_count": 17,
   "metadata": {},
   "outputs": [
    {
     "data": {
      "text/plain": [
       "<bound method ChromiumDriver.quit of <selenium.webdriver.chrome.webdriver.WebDriver (session=\"f90e3bf21083df9009d819d9f094f2a6\")>>"
      ]
     },
     "execution_count": 17,
     "metadata": {},
     "output_type": "execute_result"
    }
   ],
   "source": [
    "driver.quit"
   ]
  },
  {
   "cell_type": "code",
   "execution_count": 18,
   "metadata": {},
   "outputs": [
    {
     "data": {
      "text/plain": [
       "'\\xa0ثبت أن قوة الاستكبار اليوم وعلى رأسها أمريكا وإسرائيل تفاقم مشاكل البشرية وتفسد في الأرض وتعتدي على الشعوب وتنهب الخيرات وتصنع الحروب والأزمات ولا تقدم للبشرية إلا المزيد من المآسي والنكبات، وزاد من سوء الأمر في عالمنا الإسلامي خصوصا في المنطقة العربية التبعية العمياء من بعض الدول التي تقدم نفسها على أنها تمثل الإسلام كما هو حال النظام السعودي المنافق، الذي جعل من نفسه أداة الشر لتنفيذ مؤامرات الأعداء وهدم كيان الأمة من الداخل، وهو بلا شك امتداد ظلامي ظالم لقوى الاستكبار، ويمثل حالة الانحراف والتحريف داخل '"
      ]
     },
     "execution_count": 18,
     "metadata": {},
     "output_type": "execute_result"
    }
   ],
   "source": [
    "final_df_with_sentiment['UAE_Text'].iloc[0]"
   ]
  },
  {
   "cell_type": "code",
   "execution_count": null,
   "metadata": {},
   "outputs": [],
   "source": []
  }
 ],
 "metadata": {
  "interpreter": {
   "hash": "c026e9a3f0ac8bebe71c0f85bc0f49ea2b89705ca9128adc1c4339a74b1af46b"
  },
  "kernelspec": {
   "display_name": "Python 3.9.10 64-bit (windows store)",
   "language": "python",
   "name": "python3"
  },
  "language_info": {
   "codemirror_mode": {
    "name": "ipython",
    "version": 3
   },
   "file_extension": ".py",
   "mimetype": "text/x-python",
   "name": "python",
   "nbconvert_exporter": "python",
   "pygments_lexer": "ipython3",
   "version": "3.9.10"
  },
  "orig_nbformat": 4
 },
 "nbformat": 4,
 "nbformat_minor": 2
}
